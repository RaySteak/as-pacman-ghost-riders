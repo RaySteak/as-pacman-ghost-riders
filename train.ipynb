{
 "cells": [
  {
   "cell_type": "code",
   "execution_count": 1,
   "metadata": {},
   "outputs": [],
   "source": [
    "import sys\n",
    "sys.path.append('../')\n",
    "import capture\n",
    "import game\n",
    "import layout as lay\n",
    "import textDisplay\n",
    "from gymnasium import spaces\n",
    "\n",
    "NUM_ACTIONS = 4\n",
    "\n",
    "rules = capture.CaptureRules()"
   ]
  },
  {
   "cell_type": "code",
   "execution_count": 2,
   "metadata": {},
   "outputs": [],
   "source": [
    "#TODO: run the algorithm on a random layout each time. Also, look into the random_layout generation function\n",
    "LAYOUT_NAME = \"../layouts/defaultCapture.lay\""
   ]
  },
  {
   "cell_type": "code",
   "execution_count": 3,
   "metadata": {},
   "outputs": [
    {
     "name": "stdout",
     "output_type": "stream",
     "text": [
      "Loading agent team: /home/adrian/facultate/emai/AS/pacman-agent/pacman-contest/src/contest/baselineTeam.py\n",
      "\tArguments: {}\n",
      "Loading agent team: /home/adrian/facultate/emai/AS/pacman-agent/pacman-contest/src/contest/baselineTeam.py\n",
      "\tArguments: {}\n",
      "Blue team starts\n"
     ]
    }
   ],
   "source": [
    "layout = lay.get_layout(LAYOUT_NAME)\n",
    "\n",
    "red_agents = capture.load_agents(True, '../baselineTeam', [])\n",
    "blue_agents = capture.load_agents(False, '../baselineTeam', [])\n",
    "agents = sum([list(el) for el in zip(red_agents, blue_agents)], [])"
   ]
  },
  {
   "cell_type": "code",
   "execution_count": 4,
   "metadata": {},
   "outputs": [
    {
     "name": "stdout",
     "output_type": "stream",
     "text": [
      "The Blue team has returned at least 18.0 of the opponents' dots.\n"
     ]
    }
   ],
   "source": [
    "# Runs an entire game, you can use this for reference/understanding/debugging purposes.\n",
    "# Other than that, it has no use.\n",
    "def run_game():\n",
    "    game = rules.new_game(layout = layout, agents = agents, display = textDisplay.NullGraphics(), length = 1200, mute_agents = False, catch_exceptions = False)\n",
    "    agent_index = 0\n",
    "    agent_index = 0\n",
    "    num_agents = 4\n",
    "\n",
    "    states_explored = 0\n",
    "    while not game.game_over:\n",
    "        agent = agents[agent_index]\n",
    "        \n",
    "        observation = agent.observation_function(game.state.deep_copy())\n",
    "        action = agent.get_action(observation)\n",
    "        # print(game.state)\n",
    "        states_explored += 1\n",
    "        # print(states_explored)\n",
    "        game.state = game.state.generate_successor(agent_index, action)\n",
    "        game.move_history.append((agent_index, action))\n",
    "        \n",
    "        rules.process(game.state, game)\n",
    "        agent_index = (agent_index + 1) % num_agents"
   ]
  },
  {
   "cell_type": "code",
   "execution_count": null,
   "metadata": {},
   "outputs": [],
   "source": [
    "import gymnasium as gym\n",
    "import numpy as np\n",
    "\n",
    "HEIGHT = 256\n",
    "WIDTH = 256\n",
    "\n",
    "class PacmanEnv(gym.Env):\n",
    "    \"\"\"Custom Environment that follows gym interface.\"\"\"\n",
    "\n",
    "    metadata = {\"render_modes\": [\"human\"], \"render_fps\": 30}\n",
    "\n",
    "    def __init__(self, rules, max_episode_length):\n",
    "        super().__init__()\n",
    "        # Define action and observation space\n",
    "        # They must be gym.spaces objects\n",
    "        # Example when using discrete actions:\n",
    "        self.action_space = spaces.Discrete(NUM_ACTIONS)\n",
    "        # Example for using image as input (channel-first; channel-last also works):\n",
    "        self.observation_space = spaces.Box(low=0, high=255,\n",
    "                                            shape=(HEIGHT, WIDTH), dtype=np.uint8)\n",
    "        \n",
    "        self.rules = rules\n",
    "        self.max_episode_length = max_episode_length\n",
    "        # TODO: do we really need to call this in constuctor?\n",
    "        self.reset()\n",
    "\n",
    "    def step(self, action):\n",
    "        #TODO: might need translation of action from \"spaces.Discrete\" to our action space \"(NORTH, SOUTH, EAST, WEST)\"\n",
    "        agent = agents[agent_index]\n",
    "        \n",
    "        obs = agent.observation_function(self.ame.state.deep_copy())\n",
    "        action = agent.get_action(obs)\n",
    "        # print(game.state)\n",
    "        \n",
    "        self.game.state = self.game.state.generate_successor(agent_index, action)\n",
    "        self.game.move_history.append((agent_index, action))\n",
    "        \n",
    "        rules.process(self.game.state, self.game)\n",
    "        agent_index = (agent_index + 1) % self.num_agents\n",
    "        \n",
    "        terminated = self.game.game_over\n",
    "        \n",
    "        # TODO: the observation needs to be the conversion from the game state to an image (the spaces.Box function)\n",
    "        # TODO (requirement: previous todo): ideally, we need to do multi-observation (by additionally using\n",
    "        #  a feature vector containing for example the noisy distances to the enemies). More information on how this is done here:\n",
    "        # https://stable-baselines3.readthedocs.io/en/master/_modules/stable_baselines3/common/envs/multi_input_envs.html#SimpleMultiObsEnv \n",
    "        # TODO: create a reward function and return reward.\n",
    "        # TODO: find out what truncated and info are and if we need them\n",
    "        \n",
    "        print(self.game.state)\n",
    "        \n",
    "        return observation, reward, terminated, truncated, info\n",
    "\n",
    "    def reset(self, seed=None, options=None):\n",
    "        self.game = rules.new_game(layout = layout, agents = agents, display = textDisplay.NullGraphics(), length = self.max_episode_length, mute_agents = False, catch_exceptions = False)\n",
    "        self.agent_index = 0\n",
    "        for agent in agents:\n",
    "            agent.register_initial_state(self.game.state.deep_copy())\n",
    "        # TODO: same as before with the observation\n",
    "        # TODO: same as before with the info\n",
    "        return observation, info\n",
    "\n",
    "    # Probably not needed since we can display the game using the replay method.\n",
    "    def render(self):\n",
    "        ...\n",
    "\n",
    "    # TODO: find out what this is for\n",
    "    def close(self):\n",
    "        ..."
   ]
  }
 ],
 "metadata": {
  "kernelspec": {
   "display_name": "Python 3",
   "language": "python",
   "name": "python3"
  },
  "language_info": {
   "codemirror_mode": {
    "name": "ipython",
    "version": 3
   },
   "file_extension": ".py",
   "mimetype": "text/x-python",
   "name": "python",
   "nbconvert_exporter": "python",
   "pygments_lexer": "ipython3",
   "version": "3.10.12"
  }
 },
 "nbformat": 4,
 "nbformat_minor": 2
}
