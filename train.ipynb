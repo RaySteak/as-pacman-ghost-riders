{
 "cells": [
  {
   "cell_type": "code",
   "execution_count": null,
   "metadata": {},
   "outputs": [],
   "source": [
    "import sys\n",
    "sys.path.append('../')\n",
    "import game\n",
    "import layout as lay\n",
    "import capture\n",
    "import environment\n",
    "import captureGraphicsDisplay\n",
    "import textDisplay\n",
    "import stable_baselines3 as sb3\n",
    "\n",
    "rules = capture.CaptureRules()"
   ]
  },
  {
   "cell_type": "code",
   "execution_count": null,
   "metadata": {},
   "outputs": [],
   "source": [
    "# Runs an entire game, you can use this for reference/understanding/debugging purposes.\n",
    "# Other than that, it has no use.\n",
    "def run_game():\n",
    "    layout = lay.get_layout('../layouts/defaultCapture.lay')\n",
    "\n",
    "    rl_agents = capture.load_agents(True, '../baselineTeam', [])\n",
    "    enemy_agents = capture.load_agents(True, '../baselineTeam', [])\n",
    "\n",
    "    red_agents = enemy_agents\n",
    "    blue_agents = rl_agents\n",
    "    agents = sum([list(el) for el in zip(red_agents, blue_agents)], [])\n",
    "    game = rules.new_game(layout = layout, agents = agents, display = textDisplay.NullGraphics(), length = 1200, mute_agents = False, catch_exceptions = False)\n",
    "    agent_index = game.starting_index\n",
    "    num_agents = 4\n",
    "\n",
    "    states_explored = 0\n",
    "    while not game.game_over:\n",
    "        agent = agents[agent_index]\n",
    "        \n",
    "        observation = agent.observation_function(game.state.deep_copy())\n",
    "        action = agent.get_action(observation)\n",
    "        # print(game.state)\n",
    "        states_explored += 1\n",
    "        # print(states_explored)\n",
    "        game.state = game.state.generate_successor(agent_index, action)\n",
    "        game.move_history.append((agent_index, action))\n",
    "        \n",
    "        rules.process(game.state, game)\n",
    "        agent_index = (agent_index + 1) % num_agents"
   ]
  },
  {
   "cell_type": "code",
   "execution_count": null,
   "metadata": {},
   "outputs": [],
   "source": [
    "env = environment.PacmanEnv(rules, max_episode_length = 1200)\n",
    "\n",
    "rl = sb3.DQN('MultiInputPolicy', env, tensorboard_log = './logs/', verbose = 1, learning_starts = 1000, buffer_size = 10_000, target_update_interval = 1000)\n",
    "\n",
    "rl.learn(total_timesteps= 100_000)\n",
    "# rl.pre"
   ]
  },
  {
   "cell_type": "code",
   "execution_count": null,
   "metadata": {},
   "outputs": [],
   "source": [
    "layout = lay.get_layout('../layouts/defaultCapture.lay')\n",
    "\n",
    "rl_agents = capture.load_agents(False, 'myTeamTest', [])\n",
    "enemy_agents = capture.load_agents(True, '../baselineTeam', [])\n",
    "\n",
    "rl_agents[0].rl = rl\n",
    "rl_agents[1].rl = rl\n",
    "\n",
    "red_agents = enemy_agents\n",
    "blue_agents = rl_agents\n",
    "agents = sum([list(el) for el in zip(red_agents, blue_agents)], [])\n",
    "\n",
    "display = captureGraphicsDisplay.PacmanGraphics(\n",
    "    redTeam = 'myTeamTest',\n",
    "    redName = 'Red',\n",
    "    blueTeam = '../baselineTeam',\n",
    "    blueName = 'Blue',\n",
    "    frameTime = 0\n",
    "    )\n",
    "NUM_ACTIONS = 4\n",
    "game = rules.new_game(layout = layout, agents = agents, display = display, length = 1200, mute_agents = False, catch_exceptions = False)\n",
    "game.run()"
   ]
  }
 ],
 "metadata": {
  "kernelspec": {
   "display_name": "Python 3",
   "language": "python",
   "name": "python3"
  },
  "language_info": {
   "codemirror_mode": {
    "name": "ipython",
    "version": 3
   },
   "file_extension": ".py",
   "mimetype": "text/x-python",
   "name": "python",
   "nbconvert_exporter": "python",
   "pygments_lexer": "ipython3",
   "version": "3.10.12"
  }
 },
 "nbformat": 4,
 "nbformat_minor": 2
}
